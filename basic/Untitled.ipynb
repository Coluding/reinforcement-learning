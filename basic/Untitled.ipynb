{
 "cells": [
  {
   "cell_type": "code",
   "execution_count": 3,
   "id": "e45add80-d8a7-4479-992d-6d85128d976b",
   "metadata": {},
   "outputs": [
    {
     "name": "stdout",
     "output_type": "stream",
     "text": [
      "Monitoring C:\\Users\\lbierling\\Downloads for new ZIP files...\n",
      "<FileMovedEvent: src_path='C:\\\\Users\\\\lbierling\\\\Downloads\\\\hand-gezeichnete-wissenschaftliche-formeln-auf-tafel.zip', dest_path='C:\\\\Users\\\\lbierling\\\\Downloads\\\\and-gezeichnete-wissenschaftliche-formeln-auf-tafel.zip', is_directory=False>\n",
      "Extracted and moved JPG files from C:\\Users\\lbierling\\Downloads\\and-gezeichnete-wissenschaftliche-formeln-auf-tafel.zip\n",
      "<FileMovedEvent: src_path='C:\\\\Users\\\\lbierling\\\\Downloads\\\\07b7da3b-1600-491a-ae58-af814eacc704.tmp', dest_path='C:\\\\Users\\\\lbierling\\\\Downloads\\\\fotorealistische-wolken.jpg.crdownload', is_directory=False>\n",
      "<FileMovedEvent: src_path='C:\\\\Users\\\\lbierling\\\\Downloads\\\\fotorealistische-wolken.jpg.crdownload', dest_path='C:\\\\Users\\\\lbierling\\\\Downloads\\\\fotorealistische-wolken.jpg', is_directory=False>\n",
      "<FileMovedEvent: src_path='C:\\\\Users\\\\lbierling\\\\Downloads\\\\981fcc5f-2541-4182-93fa-3d4bfd43c60c.tmp', dest_path='C:\\\\Users\\\\lbierling\\\\Downloads\\\\Nicht bestätigt 426293.crdownload', is_directory=False>\n",
      "<FileMovedEvent: src_path='C:\\\\Users\\\\lbierling\\\\Downloads\\\\Nicht bestätigt 426293.crdownload', dest_path='C:\\\\Users\\\\lbierling\\\\Downloads\\\\isometrische-ikone-der-computertechnologie-serverraum-satz-des-digitalen-geraetes-element-fuer-desig.zip', is_directory=False>\n",
      "<FileMovedEvent: src_path='C:\\\\Users\\\\lbierling\\\\Downloads\\\\isometrische-ikone-der-computertechnologie-serverraum-satz-des-digitalen-geraetes-element-fuer-desig.zip', dest_path='C:\\\\Users\\\\lbierling\\\\Downloads\\\\sometrische-ikone-der-computertechnologie-serverraum-satz-des-digitalen-geraetes-element-fuer-desig.zip', is_directory=False>\n",
      "Extracted and moved JPG files from C:\\Users\\lbierling\\Downloads\\sometrische-ikone-der-computertechnologie-serverraum-satz-des-digitalen-geraetes-element-fuer-desig.zip\n",
      "<FileMovedEvent: src_path='C:\\\\Users\\\\lbierling\\\\Downloads\\\\875f4e3e-f072-4d7e-838c-fb2e0299a00b.tmp', dest_path='C:\\\\Users\\\\lbierling\\\\Downloads\\\\Nicht bestätigt 813948.crdownload', is_directory=False>\n",
      "<FileMovedEvent: src_path='C:\\\\Users\\\\lbierling\\\\Downloads\\\\Nicht bestätigt 813948.crdownload', dest_path='C:\\\\Users\\\\lbierling\\\\Downloads\\\\roboterentwicklungslinie-karikaturvektorkonzept.zip', is_directory=False>\n",
      "<FileMovedEvent: src_path='C:\\\\Users\\\\lbierling\\\\Downloads\\\\roboterentwicklungslinie-karikaturvektorkonzept.zip', dest_path='C:\\\\Users\\\\lbierling\\\\Downloads\\\\oboterentwicklungslinie-karikaturvektorkonzept.zip', is_directory=False>\n",
      "Extracted and moved JPG files from C:\\Users\\lbierling\\Downloads\\oboterentwicklungslinie-karikaturvektorkonzept.zip\n",
      "<FileMovedEvent: src_path='C:\\\\Users\\\\lbierling\\\\Downloads\\\\0a1be789-8398-4554-bc3a-c293248c1e4d.tmp', dest_path='C:\\\\Users\\\\lbierling\\\\Downloads\\\\2023 SoSe Klausur (2).pdf.crdownload', is_directory=False>\n",
      "<FileMovedEvent: src_path='C:\\\\Users\\\\lbierling\\\\Downloads\\\\2023 SoSe Klausur (2).pdf.crdownload', dest_path='C:\\\\Users\\\\lbierling\\\\Downloads\\\\2023 SoSe Klausur (2).pdf', is_directory=False>\n",
      "<FileMovedEvent: src_path='C:\\\\Users\\\\lbierling\\\\Downloads\\\\642fc15f-ceba-4f77-affa-b261c3cabd94.tmp', dest_path='C:\\\\Users\\\\lbierling\\\\Downloads\\\\2023 SoSe Lösungen.pdf.crdownload', is_directory=False>\n",
      "<FileMovedEvent: src_path='C:\\\\Users\\\\lbierling\\\\Downloads\\\\2023 SoSe Lösungen.pdf.crdownload', dest_path='C:\\\\Users\\\\lbierling\\\\Downloads\\\\2023 SoSe Lösungen.pdf', is_directory=False>\n",
      "<FileMovedEvent: src_path='C:\\\\Users\\\\lbierling\\\\Downloads\\\\bfa8995f-69ee-4897-906f-cebf22d6a2e9.tmp', dest_path='C:\\\\Users\\\\lbierling\\\\Downloads\\\\lukas-bierling-thesis (3).pdf.crdownload', is_directory=False>\n",
      "<FileMovedEvent: src_path='C:\\\\Users\\\\lbierling\\\\Downloads\\\\lukas-bierling-thesis (3).pdf.crdownload', dest_path='C:\\\\Users\\\\lbierling\\\\Downloads\\\\lukas-bierling-thesis (3).pdf', is_directory=False>\n",
      "<FileMovedEvent: src_path='C:\\\\Users\\\\lbierling\\\\Downloads\\\\958418c7-d0cd-4099-9be4-0bdcdeb5b3fe.tmp', dest_path='C:\\\\Users\\\\lbierling\\\\Downloads\\\\icons8-typescript-50.png.crdownload', is_directory=False>\n",
      "<FileMovedEvent: src_path='C:\\\\Users\\\\lbierling\\\\Downloads\\\\icons8-typescript-50.png.crdownload', dest_path='C:\\\\Users\\\\lbierling\\\\Downloads\\\\icons8-typescript-50.png', is_directory=False>\n",
      "<FileMovedEvent: src_path='C:\\\\Users\\\\lbierling\\\\Downloads\\\\7a85c0d1-2ade-4eb5-a43f-39d3a21a28d1.tmp', dest_path='C:\\\\Users\\\\lbierling\\\\Downloads\\\\Notizen-Klausurinfos-und-Aufgaben.pdf.crdownload', is_directory=False>\n",
      "<FileMovedEvent: src_path='C:\\\\Users\\\\lbierling\\\\Downloads\\\\Notizen-Klausurinfos-und-Aufgaben.pdf.crdownload', dest_path='C:\\\\Users\\\\lbierling\\\\Downloads\\\\Notizen-Klausurinfos-und-Aufgaben.pdf', is_directory=False>\n",
      "<FileMovedEvent: src_path='C:\\\\Users\\\\lbierling\\\\Downloads\\\\18945dcd-5d1e-4548-863e-44fe808e3545.tmp', dest_path='C:\\\\Users\\\\lbierling\\\\Downloads\\\\Notizen-B5-Spektralsätze.pdf.crdownload', is_directory=False>\n",
      "<FileMovedEvent: src_path='C:\\\\Users\\\\lbierling\\\\Downloads\\\\Notizen-B5-Spektralsätze.pdf.crdownload', dest_path='C:\\\\Users\\\\lbierling\\\\Downloads\\\\Notizen-B5-Spektralsätze.pdf', is_directory=False>\n",
      "<FileMovedEvent: src_path='C:\\\\Users\\\\lbierling\\\\Downloads\\\\a514b5da-dbbf-436e-ac81-4730de944775.tmp', dest_path='C:\\\\Users\\\\lbierling\\\\Downloads\\\\Notizen-B3-JordanNormaform.pdf.crdownload', is_directory=False>\n",
      "<FileMovedEvent: src_path='C:\\\\Users\\\\lbierling\\\\Downloads\\\\Notizen-B3-JordanNormaform.pdf.crdownload', dest_path='C:\\\\Users\\\\lbierling\\\\Downloads\\\\Notizen-B3-JordanNormaform.pdf', is_directory=False>\n",
      "<FileMovedEvent: src_path='C:\\\\Users\\\\lbierling\\\\Downloads\\\\ab7b8558-5124-481c-9221-fa5f8da95f73.tmp', dest_path='C:\\\\Users\\\\lbierling\\\\Downloads\\\\Aufgaben-Studientag-2.pdf.crdownload', is_directory=False>\n",
      "<FileMovedEvent: src_path='C:\\\\Users\\\\lbierling\\\\Downloads\\\\Aufgaben-Studientag-2.pdf.crdownload', dest_path='C:\\\\Users\\\\lbierling\\\\Downloads\\\\Aufgaben-Studientag-2.pdf', is_directory=False>\n",
      "<FileMovedEvent: src_path='C:\\\\Users\\\\lbierling\\\\Downloads\\\\7c7789e6-9f98-4a16-ad70-88ca2b5896fb.tmp', dest_path='C:\\\\Users\\\\lbierling\\\\Downloads\\\\Lösungen-Studientag2.pdf.crdownload', is_directory=False>\n",
      "<FileMovedEvent: src_path='C:\\\\Users\\\\lbierling\\\\Downloads\\\\Lösungen-Studientag2.pdf.crdownload', dest_path='C:\\\\Users\\\\lbierling\\\\Downloads\\\\Lösungen-Studientag2.pdf', is_directory=False>\n",
      "<FileMovedEvent: src_path='C:\\\\Users\\\\lbierling\\\\Downloads\\\\ba86a7b4-29de-4a12-aba2-fc8434575afc.tmp', dest_path='C:\\\\Users\\\\lbierling\\\\Downloads\\\\photo-1568952433726-3896e3881c65.avif.crdownload', is_directory=False>\n",
      "<FileMovedEvent: src_path='C:\\\\Users\\\\lbierling\\\\Downloads\\\\photo-1568952433726-3896e3881c65.avif.crdownload', dest_path='C:\\\\Users\\\\lbierling\\\\Downloads\\\\photo-1568952433726-3896e3881c65.avif', is_directory=False>\n",
      "<FileMovedEvent: src_path='C:\\\\Users\\\\lbierling\\\\Downloads\\\\aacf977d-b4ee-4399-b0a6-37a80956b54e.tmp', dest_path='C:\\\\Users\\\\lbierling\\\\Downloads\\\\test.pdf.crdownload', is_directory=False>\n",
      "<FileMovedEvent: src_path='C:\\\\Users\\\\lbierling\\\\Downloads\\\\test.pdf.crdownload', dest_path='C:\\\\Users\\\\lbierling\\\\Downloads\\\\test.pdf', is_directory=False>\n",
      "<FileMovedEvent: src_path='C:\\\\Users\\\\lbierling\\\\Downloads\\\\test.pdf', dest_path='C:\\\\Users\\\\lbierling\\\\Downloads\\\\test.html.pdf', is_directory=False>\n",
      "<FileMovedEvent: src_path='C:\\\\Users\\\\lbierling\\\\Downloads\\\\test.html.pdf', dest_path='C:\\\\Users\\\\lbierling\\\\Downloads\\\\test.pdf', is_directory=False>\n",
      "<FileMovedEvent: src_path='C:\\\\Users\\\\lbierling\\\\Downloads\\\\406e8faa-4949-46e2-b65b-1f51a05a92f9.tmp', dest_path='C:\\\\Users\\\\lbierling\\\\Downloads\\\\Nicht bestätigt 860270.crdownload', is_directory=False>\n",
      "<FileMovedEvent: src_path='C:\\\\Users\\\\lbierling\\\\Downloads\\\\Nicht bestätigt 860270.crdownload', dest_path='C:\\\\Users\\\\lbierling\\\\Downloads\\\\test.html', is_directory=False>\n",
      "<FileMovedEvent: src_path='C:\\\\Users\\\\lbierling\\\\Downloads\\\\263fef1a-927a-455a-9ae4-ba2e3bdea7e0.tmp', dest_path='C:\\\\Users\\\\lbierling\\\\Downloads\\\\lukas-bierling-cv-german (2).pdf.crdownload', is_directory=False>\n",
      "<FileMovedEvent: src_path='C:\\\\Users\\\\lbierling\\\\Downloads\\\\lukas-bierling-cv-german (2).pdf.crdownload', dest_path='C:\\\\Users\\\\lbierling\\\\Downloads\\\\lukas-bierling-cv-german (2).pdf', is_directory=False>\n",
      "<FileMovedEvent: src_path='C:\\\\Users\\\\lbierling\\\\Downloads\\\\07ab200b-0b43-481b-a453-8f35d2723651.tmp', dest_path='C:\\\\Users\\\\lbierling\\\\Downloads\\\\abschlusscecce877-fd0c-4e72-ae1c-9f24436da30c.pdf.crdownload', is_directory=False>\n",
      "<FileMovedEvent: src_path='C:\\\\Users\\\\lbierling\\\\Downloads\\\\abschlusscecce877-fd0c-4e72-ae1c-9f24436da30c.pdf.crdownload', dest_path='C:\\\\Users\\\\lbierling\\\\Downloads\\\\abschlusscecce877-fd0c-4e72-ae1c-9f24436da30c.pdf', is_directory=False>\n",
      "<FileMovedEvent: src_path='C:\\\\Users\\\\lbierling\\\\Downloads\\\\7c4a399b-9512-44b2-a1df-5964db8a9062.tmp', dest_path='C:\\\\Users\\\\lbierling\\\\Downloads\\\\88829 Bierling Lukas Transcript of Records (passed examen) 20240222-095008.pdf.crdownload', is_directory=False>\n",
      "<FileMovedEvent: src_path='C:\\\\Users\\\\lbierling\\\\Downloads\\\\88829 Bierling Lukas Transcript of Records (passed examen) 20240222-095008.pdf.crdownload', dest_path='C:\\\\Users\\\\lbierling\\\\Downloads\\\\88829 Bierling Lukas Transcript of Records (passed examen) 20240222-095008.pdf', is_directory=False>\n",
      "<FileMovedEvent: src_path='C:\\\\Users\\\\lbierling\\\\Downloads\\\\bfae52dd-8333-4b24-81c0-1d1d23410fb6.tmp', dest_path='C:\\\\Users\\\\lbierling\\\\Downloads\\\\88829 Bierling Lukas Transcript of Records (passed examen) 20240222-095029.pdf.crdownload', is_directory=False>\n",
      "<FileMovedEvent: src_path='C:\\\\Users\\\\lbierling\\\\Downloads\\\\88829 Bierling Lukas Transcript of Records (passed examen) 20240222-095029.pdf.crdownload', dest_path='C:\\\\Users\\\\lbierling\\\\Downloads\\\\88829 Bierling Lukas Transcript of Records (passed examen) 20240222-095029.pdf', is_directory=False>\n",
      "<FileMovedEvent: src_path='C:\\\\Users\\\\lbierling\\\\Downloads\\\\b08214f6-07ec-4da4-9e78-71affde5c9fa.tmp', dest_path='C:\\\\Users\\\\lbierling\\\\Downloads\\\\lukas-bierling-cv-german (3).pdf.crdownload', is_directory=False>\n",
      "<FileMovedEvent: src_path='C:\\\\Users\\\\lbierling\\\\Downloads\\\\lukas-bierling-cv-german (3).pdf.crdownload', dest_path='C:\\\\Users\\\\lbierling\\\\Downloads\\\\lukas-bierling-cv-german (3).pdf', is_directory=False>\n",
      "<FileMovedEvent: src_path='C:\\\\Users\\\\lbierling\\\\Downloads\\\\d2c5f005-8c88-41c6-9223-4ca7239ac4a2.tmp', dest_path='C:\\\\Users\\\\lbierling\\\\Downloads\\\\lukas-bierling-cv (2).pdf.crdownload', is_directory=False>\n",
      "<FileMovedEvent: src_path='C:\\\\Users\\\\lbierling\\\\Downloads\\\\lukas-bierling-cv (2).pdf.crdownload', dest_path='C:\\\\Users\\\\lbierling\\\\Downloads\\\\lukas-bierling-cv (2).pdf', is_directory=False>\n",
      "<FileMovedEvent: src_path='C:\\\\Users\\\\lbierling\\\\Downloads\\\\496b7a60-adb3-468b-a723-f1d30535c79f.tmp', dest_path='C:\\\\Users\\\\lbierling\\\\Downloads\\\\ilovepdf_merged.pdf.crdownload', is_directory=False>\n",
      "<FileMovedEvent: src_path='C:\\\\Users\\\\lbierling\\\\Downloads\\\\ilovepdf_merged.pdf.crdownload', dest_path='C:\\\\Users\\\\lbierling\\\\Downloads\\\\ilovepdf_merged.pdf', is_directory=False>\n",
      "<FileMovedEvent: src_path='C:\\\\Users\\\\lbierling\\\\Downloads\\\\56e27d96-c022-4cdb-93bb-2d694a1a6a41.tmp', dest_path='C:\\\\Users\\\\lbierling\\\\Downloads\\\\resume.pdf.crdownload', is_directory=False>\n",
      "<FileMovedEvent: src_path='C:\\\\Users\\\\lbierling\\\\Downloads\\\\resume.pdf.crdownload', dest_path='C:\\\\Users\\\\lbierling\\\\Downloads\\\\resume.pdf', is_directory=False>\n",
      "<FileMovedEvent: src_path='C:\\\\Users\\\\lbierling\\\\Downloads\\\\6ece96e6-2049-40e5-a571-97f59a84b520.tmp', dest_path='C:\\\\Users\\\\lbierling\\\\Downloads\\\\resume_merged.pdf.crdownload', is_directory=False>\n",
      "<FileMovedEvent: src_path='C:\\\\Users\\\\lbierling\\\\Downloads\\\\resume_merged.pdf.crdownload', dest_path='C:\\\\Users\\\\lbierling\\\\Downloads\\\\resume_merged.pdf', is_directory=False>\n"
     ]
    },
    {
     "name": "stderr",
     "output_type": "stream",
     "text": [
      "\n",
      "KeyboardInterrupt\n",
      "\n"
     ]
    }
   ],
   "source": [
    "import os\n",
    "import zipfile\n",
    "from watchdog.observers import Observer\n",
    "from watchdog.events import FileSystemEventHandler\n",
    "\n",
    "class ZipEventHandler(FileSystemEventHandler):\n",
    "    def __init__(self, watch_directory, destination_directory):\n",
    "        self.watch_directory = watch_directory\n",
    "        self.destination_directory = destination_directory\n",
    "\n",
    "    def on_moved(self, event):\n",
    "        print(event)\n",
    "        if event.is_directory:\n",
    "            return\n",
    "\n",
    "        if event.src_path.endswith('.zip'):\n",
    "            self.unzip_and_move(event.dest_path)\n",
    "\n",
    "    def unzip_and_move(self, zip_path):\n",
    "        with zipfile.ZipFile(zip_path, 'r') as zip_ref:\n",
    "            for file_info in zip_ref.infolist():\n",
    "                if file_info.filename.endswith('.jpg'):\n",
    "                    zip_ref.extract(file_info, self.watch_directory)\n",
    "                    os.rename(\n",
    "                        os.path.join(self.watch_directory, file_info.filename),\n",
    "                        os.path.join(self.destination_directory, file_info.filename)\n",
    "                    )\n",
    "            print(f\"Extracted and moved JPG files from {zip_path}\")\n",
    "\n",
    "if __name__ == \"__main__\":\n",
    "    watch_directory = r'C:\\Users\\lbierling\\Downloads'\n",
    "    destination_directory = r'C:\\Users\\lbierling\\Documents\\priv\\projects\\portfolio\\portfolio_new\\frontend\\portfolio\\src\\assets'\n",
    "\n",
    "    event_handler = ZipEventHandler(watch_directory, destination_directory)\n",
    "    observer = Observer()\n",
    "    observer.schedule(event_handler, watch_directory, recursive=False)\n",
    "    observer.start()\n",
    "\n",
    "    try:\n",
    "        print(f\"Monitoring {watch_directory} for new ZIP files...\")\n",
    "        while True:\n",
    "            # Run indefinitely\n",
    "            pass\n",
    "    except KeyboardInterrupt:\n",
    "        observer.stop()\n",
    "\n",
    "    observer.join()\n"
   ]
  },
  {
   "cell_type": "code",
   "execution_count": 8,
   "id": "afd5a665-a550-42a8-b7d1-92dac9b376db",
   "metadata": {},
   "outputs": [],
   "source": [
    "def r(n):\n",
    "    return n**4 + n**2 - 11*n"
   ]
  },
  {
   "cell_type": "code",
   "execution_count": 11,
   "id": "fad0b123-68be-4675-88cb-e68ff5495c43",
   "metadata": {},
   "outputs": [],
   "source": [
    "import numpy as np"
   ]
  },
  {
   "cell_type": "code",
   "execution_count": 14,
   "id": "9e6e9249-72e2-4d2a-9339-06a353e8e65a",
   "metadata": {},
   "outputs": [
    {
     "data": {
      "text/plain": [
       "[1, 1, 2, 6, 24, 120, 720, 5040, 40320]"
      ]
     },
     "execution_count": 14,
     "metadata": {},
     "output_type": "execute_result"
    }
   ],
   "source": [
    "[np.math.factorial(n) for n in range(0,9)]"
   ]
  },
  {
   "cell_type": "code",
   "execution_count": 15,
   "id": "e5c644c5-ebc4-4a00-8c48-712fd92ef4b4",
   "metadata": {},
   "outputs": [
    {
     "data": {
      "text/plain": [
       "[0, -9, -2, 57, 228, 595, 1266, 2373, 4072]"
      ]
     },
     "execution_count": 15,
     "metadata": {},
     "output_type": "execute_result"
    }
   ],
   "source": [
    "[r(n) for n in range(0,9)]"
   ]
  }
 ],
 "metadata": {
  "kernelspec": {
   "display_name": "Python 3 (ipykernel)",
   "language": "python",
   "name": "python3"
  },
  "language_info": {
   "codemirror_mode": {
    "name": "ipython",
    "version": 3
   },
   "file_extension": ".py",
   "mimetype": "text/x-python",
   "name": "python",
   "nbconvert_exporter": "python",
   "pygments_lexer": "ipython3",
   "version": "3.10.9"
  }
 },
 "nbformat": 4,
 "nbformat_minor": 5
}
